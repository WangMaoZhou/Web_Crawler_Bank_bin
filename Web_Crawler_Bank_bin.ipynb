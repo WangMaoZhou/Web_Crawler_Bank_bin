{
 "cells": [
  {
   "cell_type": "markdown",
   "metadata": {},
   "source": [
    "# Title : Web_Crawler_Bank_bin"
   ]
  },
  {
   "cell_type": "markdown",
   "metadata": {},
   "source": [
    "Date : 2019.08.20\n",
    "\n",
    "Update : 2020.07.31\n",
    "\n",
    "Author : Mao-Zhou Wang\n",
    "\n",
    "Email : maozhou0112@gmail.com"
   ]
  },
  {
   "cell_type": "code",
   "execution_count": 3,
   "metadata": {},
   "outputs": [],
   "source": [
    "import requests\n",
    "import urllib\n",
    "import pandas as pd\n",
    "import json\n",
    "import openpyxl\n",
    "import time"
   ]
  },
  {
   "cell_type": "code",
   "execution_count": 5,
   "metadata": {},
   "outputs": [],
   "source": [
    "wb = openpyxl.load_workbook(\"bank_bin.xlsx\")\n",
    "ws = wb['bin']"
   ]
  },
  {
   "cell_type": "code",
   "execution_count": null,
   "metadata": {},
   "outputs": [],
   "source": [
    "int(ws.max_row)\n",
    "#int(ws.max_column)"
   ]
  },
  {
   "cell_type": "code",
   "execution_count": null,
   "metadata": {},
   "outputs": [],
   "source": [
    "df=[]\n",
    "for i in range(2,int(ws.max_row)):\n",
    "    a = str(ws.cell(row=i,column=1).value).strip()\n",
    "    try:\n",
    "        url=\"https://lookup.binlist.net/\"+a+\"\"\n",
    "        page = urllib.request.urlopen(url)\n",
    "        js = json.loads(page.read())\n",
    "        print (a+\":\",\"Bank:\"+ js['bank']['name'],\"Country:\"+ js['country']['name'])\n",
    "        df.append([js['bank']['name'],js['country']['name']])\n",
    "        time.sleep(5)\n",
    "    except:\n",
    "        print (a+\":null\")\n",
    "        time.sleep(5)\n",
    "        pass\n",
    "    continue\n",
    "BIN = pd.DataFrame(df,columns=['Bank','Country'])"
   ]
  },
  {
   "cell_type": "code",
   "execution_count": 41,
   "metadata": {},
   "outputs": [],
   "source": [
    "BIN.to_csv('Bank_Bin.csv',encoding='utf_8_sig')"
   ]
  }
 ],
 "metadata": {
  "kernelspec": {
   "display_name": "Python 3",
   "language": "python",
   "name": "python3"
  },
  "language_info": {
   "codemirror_mode": {
    "name": "ipython",
    "version": 3
   },
   "file_extension": ".py",
   "mimetype": "text/x-python",
   "name": "python",
   "nbconvert_exporter": "python",
   "pygments_lexer": "ipython3",
   "version": "3.7.6"
  }
 },
 "nbformat": 4,
 "nbformat_minor": 2
}
